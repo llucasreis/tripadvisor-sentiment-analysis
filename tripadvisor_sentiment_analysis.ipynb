{
  "nbformat": 4,
  "nbformat_minor": 0,
  "metadata": {
    "colab": {
      "name": "tripadvisor-sentiment-analysis.ipynb",
      "provenance": [],
      "authorship_tag": "ABX9TyMH97554+n7KNkqdNqtyMk8",
      "include_colab_link": true
    },
    "kernelspec": {
      "name": "python3",
      "display_name": "Python 3"
    }
  },
  "cells": [
    {
      "cell_type": "markdown",
      "metadata": {
        "id": "view-in-github",
        "colab_type": "text"
      },
      "source": [
        "<a href=\"https://colab.research.google.com/github/lprs110/tripadvisor-sentiment-analysis/blob/master/tripadvisor_sentiment_analysis.ipynb\" target=\"_parent\"><img src=\"https://colab.research.google.com/assets/colab-badge.svg\" alt=\"Open In Colab\"/></a>"
      ]
    },
    {
      "cell_type": "code",
      "metadata": {
        "id": "ZwycRrhc8Mci"
      },
      "source": [
        "import pandas as pd\n",
        "import numpy as np"
      ],
      "execution_count": null,
      "outputs": []
    },
    {
      "cell_type": "code",
      "metadata": {
        "id": "r-YLWOyo8Tj9"
      },
      "source": [
        "df = pd.read_json('http://tiagodemelo.info/datasets/dataset-v2.dat', lines=True)"
      ],
      "execution_count": null,
      "outputs": []
    },
    {
      "cell_type": "code",
      "metadata": {
        "id": "5qgmGPt08YQ4",
        "outputId": "242d38e0-9700-46ea-d13a-7887b0d0e628",
        "colab": {
          "base_uri": "https://localhost:8080/",
          "height": 289
        }
      },
      "source": [
        "df.head()"
      ],
      "execution_count": null,
      "outputs": [
        {
          "output_type": "execute_result",
          "data": {
            "text/html": [
              "<div>\n",
              "<style scoped>\n",
              "    .dataframe tbody tr th:only-of-type {\n",
              "        vertical-align: middle;\n",
              "    }\n",
              "\n",
              "    .dataframe tbody tr th {\n",
              "        vertical-align: top;\n",
              "    }\n",
              "\n",
              "    .dataframe thead th {\n",
              "        text-align: right;\n",
              "    }\n",
              "</style>\n",
              "<table border=\"1\" class=\"dataframe\">\n",
              "  <thead>\n",
              "    <tr style=\"text-align: right;\">\n",
              "      <th></th>\n",
              "      <th>title</th>\n",
              "      <th>reviewId</th>\n",
              "      <th>restaurantId</th>\n",
              "      <th>author</th>\n",
              "      <th>reviewBody</th>\n",
              "      <th>language</th>\n",
              "      <th>mobileDevice</th>\n",
              "      <th>userLocation</th>\n",
              "      <th>publicationDate</th>\n",
              "      <th>visitDate</th>\n",
              "      <th>ratingValue</th>\n",
              "      <th>itemReviewed</th>\n",
              "    </tr>\n",
              "  </thead>\n",
              "  <tbody>\n",
              "    <tr>\n",
              "      <th>0</th>\n",
              "      <td>Jantar</td>\n",
              "      <td>692856288</td>\n",
              "      <td>2344932.0</td>\n",
              "      <td>larinhavercosa222</td>\n",
              "      <td>Comida maravilhosa, lugar do verdadeiro chicle...</td>\n",
              "      <td>pt</td>\n",
              "      <td>True</td>\n",
              "      <td>São Carlos, SP</td>\n",
              "      <td>26/07/2019</td>\n",
              "      <td>07/2019</td>\n",
              "      <td>5</td>\n",
              "      <td>{'name': 'Imperador dos Camarões', 'address': ...</td>\n",
              "    </tr>\n",
              "    <tr>\n",
              "      <th>1</th>\n",
              "      <td>Uma boa experiência.</td>\n",
              "      <td>229208487</td>\n",
              "      <td>3720906.0</td>\n",
              "      <td>Pano P</td>\n",
              "      <td>Comida boa, drinks legais e um ambiente bem ac...</td>\n",
              "      <td>pt</td>\n",
              "      <td>True</td>\n",
              "      <td>Manaus, AM</td>\n",
              "      <td>16/09/2014</td>\n",
              "      <td>None</td>\n",
              "      <td>4</td>\n",
              "      <td>{'name': 'Guacamole Natal', 'address': {'stree...</td>\n",
              "    </tr>\n",
              "    <tr>\n",
              "      <th>2</th>\n",
              "      <td>Otimo self service</td>\n",
              "      <td>679002332</td>\n",
              "      <td>2248105.0</td>\n",
              "      <td>Magma100</td>\n",
              "      <td>Excelente pra ir com a família! Ótima Comida, ...</td>\n",
              "      <td>pt</td>\n",
              "      <td>True</td>\n",
              "      <td>Goiânia, GO</td>\n",
              "      <td>04/06/2019</td>\n",
              "      <td>07/2018</td>\n",
              "      <td>4</td>\n",
              "      <td>{'name': 'Chica Pitanga', 'address': {'streetA...</td>\n",
              "    </tr>\n",
              "    <tr>\n",
              "      <th>3</th>\n",
              "      <td>O sorvete mais tradicional do estado</td>\n",
              "      <td>355671519</td>\n",
              "      <td>8168302.0</td>\n",
              "      <td>Yurie M</td>\n",
              "      <td>Tomo sorvete na Visabor faz mais de 30 anos. S...</td>\n",
              "      <td>pt</td>\n",
              "      <td>False</td>\n",
              "      <td>Aracaju, SE</td>\n",
              "      <td>15/03/2016</td>\n",
              "      <td>01/2016</td>\n",
              "      <td>5</td>\n",
              "      <td>{'name': 'Sorvetes Vi Sabor', 'address': {'str...</td>\n",
              "    </tr>\n",
              "    <tr>\n",
              "      <th>4</th>\n",
              "      <td>Melhor hamburger!</td>\n",
              "      <td>268741921</td>\n",
              "      <td>5395141.0</td>\n",
              "      <td>Debora_C85</td>\n",
              "      <td>O melhor hamburger que já comi! Excelente aten...</td>\n",
              "      <td>pt</td>\n",
              "      <td>False</td>\n",
              "      <td>Rio de Janeiro, RJ</td>\n",
              "      <td>28/04/2015</td>\n",
              "      <td>04/2015</td>\n",
              "      <td>5</td>\n",
              "      <td>{'name': 'Z Deli Sandwich Shop', 'address': {'...</td>\n",
              "    </tr>\n",
              "  </tbody>\n",
              "</table>\n",
              "</div>"
            ],
            "text/plain": [
              "                                  title  ...                                       itemReviewed\n",
              "0                               Jantar   ...  {'name': 'Imperador dos Camarões', 'address': ...\n",
              "1                  Uma boa experiência.  ...  {'name': 'Guacamole Natal', 'address': {'stree...\n",
              "2                    Otimo self service  ...  {'name': 'Chica Pitanga', 'address': {'streetA...\n",
              "3  O sorvete mais tradicional do estado  ...  {'name': 'Sorvetes Vi Sabor', 'address': {'str...\n",
              "4                     Melhor hamburger!  ...  {'name': 'Z Deli Sandwich Shop', 'address': {'...\n",
              "\n",
              "[5 rows x 12 columns]"
            ]
          },
          "metadata": {
            "tags": []
          },
          "execution_count": 3
        }
      ]
    },
    {
      "cell_type": "code",
      "metadata": {
        "id": "k_Ah7gdE8bbe",
        "outputId": "5f04ed6c-b204-4d54-fd15-ee7efdc5c11f",
        "colab": {
          "base_uri": "https://localhost:8080/",
          "height": 297
        }
      },
      "source": [
        "df.describe()"
      ],
      "execution_count": null,
      "outputs": [
        {
          "output_type": "execute_result",
          "data": {
            "text/html": [
              "<div>\n",
              "<style scoped>\n",
              "    .dataframe tbody tr th:only-of-type {\n",
              "        vertical-align: middle;\n",
              "    }\n",
              "\n",
              "    .dataframe tbody tr th {\n",
              "        vertical-align: top;\n",
              "    }\n",
              "\n",
              "    .dataframe thead th {\n",
              "        text-align: right;\n",
              "    }\n",
              "</style>\n",
              "<table border=\"1\" class=\"dataframe\">\n",
              "  <thead>\n",
              "    <tr style=\"text-align: right;\">\n",
              "      <th></th>\n",
              "      <th>reviewId</th>\n",
              "      <th>restaurantId</th>\n",
              "      <th>ratingValue</th>\n",
              "    </tr>\n",
              "  </thead>\n",
              "  <tbody>\n",
              "    <tr>\n",
              "      <th>count</th>\n",
              "      <td>1.000000e+05</td>\n",
              "      <td>9.999900e+04</td>\n",
              "      <td>100000.00000</td>\n",
              "    </tr>\n",
              "    <tr>\n",
              "      <th>mean</th>\n",
              "      <td>4.160921e+08</td>\n",
              "      <td>5.219436e+06</td>\n",
              "      <td>4.25719</td>\n",
              "    </tr>\n",
              "    <tr>\n",
              "      <th>std</th>\n",
              "      <td>1.701933e+08</td>\n",
              "      <td>3.838673e+06</td>\n",
              "      <td>0.96880</td>\n",
              "    </tr>\n",
              "    <tr>\n",
              "      <th>min</th>\n",
              "      <td>2.880014e+07</td>\n",
              "      <td>7.810710e+05</td>\n",
              "      <td>1.00000</td>\n",
              "    </tr>\n",
              "    <tr>\n",
              "      <th>25%</th>\n",
              "      <td>2.673839e+08</td>\n",
              "      <td>2.342383e+06</td>\n",
              "      <td>4.00000</td>\n",
              "    </tr>\n",
              "    <tr>\n",
              "      <th>50%</th>\n",
              "      <td>3.926971e+08</td>\n",
              "      <td>4.295557e+06</td>\n",
              "      <td>5.00000</td>\n",
              "    </tr>\n",
              "    <tr>\n",
              "      <th>75%</th>\n",
              "      <td>5.562007e+08</td>\n",
              "      <td>7.208435e+06</td>\n",
              "      <td>5.00000</td>\n",
              "    </tr>\n",
              "    <tr>\n",
              "      <th>max</th>\n",
              "      <td>7.527117e+08</td>\n",
              "      <td>2.031396e+07</td>\n",
              "      <td>5.00000</td>\n",
              "    </tr>\n",
              "  </tbody>\n",
              "</table>\n",
              "</div>"
            ],
            "text/plain": [
              "           reviewId  restaurantId   ratingValue\n",
              "count  1.000000e+05  9.999900e+04  100000.00000\n",
              "mean   4.160921e+08  5.219436e+06       4.25719\n",
              "std    1.701933e+08  3.838673e+06       0.96880\n",
              "min    2.880014e+07  7.810710e+05       1.00000\n",
              "25%    2.673839e+08  2.342383e+06       4.00000\n",
              "50%    3.926971e+08  4.295557e+06       5.00000\n",
              "75%    5.562007e+08  7.208435e+06       5.00000\n",
              "max    7.527117e+08  2.031396e+07       5.00000"
            ]
          },
          "metadata": {
            "tags": []
          },
          "execution_count": 4
        }
      ]
    },
    {
      "cell_type": "code",
      "metadata": {
        "id": "cBXlI7R78eH_",
        "outputId": "ac6226b6-4104-459f-f06a-437ec4fbac2e",
        "colab": {
          "base_uri": "https://localhost:8080/"
        }
      },
      "source": [
        "df.columns"
      ],
      "execution_count": null,
      "outputs": [
        {
          "output_type": "execute_result",
          "data": {
            "text/plain": [
              "Index(['title', 'reviewId', 'restaurantId', 'author', 'reviewBody', 'language',\n",
              "       'mobileDevice', 'userLocation', 'publicationDate', 'visitDate',\n",
              "       'ratingValue', 'itemReviewed'],\n",
              "      dtype='object')"
            ]
          },
          "metadata": {
            "tags": []
          },
          "execution_count": 5
        }
      ]
    },
    {
      "cell_type": "code",
      "metadata": {
        "id": "DoUHdtGG8fd-"
      },
      "source": [
        ""
      ],
      "execution_count": null,
      "outputs": []
    }
  ]
}